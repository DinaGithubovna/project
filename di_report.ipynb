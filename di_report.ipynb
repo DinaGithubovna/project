{
 "cells": [
  {
   "cell_type": "code",
   "execution_count": 2,
   "id": "4a9e9b28-4dc9-4715-8bbe-f2914d3f73d9",
   "metadata": {},
   "outputs": [
    {
     "name": "stderr",
     "output_type": "stream",
     "text": [
      "/nfs/env/lib/python3.8/site-packages/seaborn/_decorators.py:36: FutureWarning: Pass the following variables as keyword args: x, y. From version 0.12, the only valid positional argument will be `data`, and passing other arguments without an explicit keyword will result in an error or misinterpretation.\n",
      "  warnings.warn(\n"
     ]
    }
   ],
   "source": [
    "import telegram\n",
    "import numpy as np\n",
    "import matplotlib.pyplot as plt\n",
    "import seaborn as sns\n",
    "import io\n",
    "from read_db.CH import Getch\n",
    "import os\n",
    "import logging\n",
    "import pandas as pd\n",
    "\n",
    "sns.set()\n",
    "\n",
    "def test_report(chat=None):\n",
    "    bot = telegram.Bot(token='5208081022:AAHBQUVJHQfWg5DTGWPcYkIBXKzTmeGGG1s')\n",
    "    chat_id=99122522\n",
    "    msg = 'Hello'\n",
    "    bot.sendMessage(chat_id=chat_id, text=msg)\n",
    "\n",
    "    x = np.arange(1, 10, 1)\n",
    "    y = np.random.choice(5, len(x))\n",
    "    sns.lineplot(x, y)\n",
    "    plt.title('test plot')\n",
    "    plot_object = io.BytesIO()\n",
    "    plt.savefig(plot_object)\n",
    "    plot_object.seek(0)\n",
    "    plot_object.name = 'test_plot.png'\n",
    "    plt.close()\n",
    "    bot.sendPhoto(chat_id=chat_id, photo=plot_object)\n",
    "\n",
    "    data = Getch('select * from simulator_20220320.feed_actions where toDate(time) = today()-1 limit 100').df\n",
    "    file_object = io.StringIO()\n",
    "    data.to_csv(file_object)\n",
    "    file_object.name = 'test_file.csv'\n",
    "    file_object.seek(0)\n",
    "    bot.sendDocument(chat_id=chat_id, document=file_object)\n",
    "    \n",
    "    \n",
    "logging.basicConfig(filename='logdata.txt', level='INFO')\n",
    "now=pd.Timestamp('now')\n",
    "logging.info('TEST REPORT START BUILDING {}'.format(now))\n",
    "try:\n",
    "    test_report()\n",
    "    logging.info('TEST REPORT SENT')\n",
    "except Exception as e:\n",
    "    logging.exception(e)"
   ]
  },
  {
   "cell_type": "code",
   "execution_count": null,
   "id": "81796d10-c58d-444f-9765-ac892e75914d",
   "metadata": {},
   "outputs": [],
   "source": []
  }
 ],
 "metadata": {
  "kernelspec": {
   "display_name": "Python 3 (ipykernel)",
   "language": "python",
   "name": "python3"
  },
  "language_info": {
   "codemirror_mode": {
    "name": "ipython",
    "version": 3
   },
   "file_extension": ".py",
   "mimetype": "text/x-python",
   "name": "python",
   "nbconvert_exporter": "python",
   "pygments_lexer": "ipython3",
   "version": "3.8.10"
  }
 },
 "nbformat": 4,
 "nbformat_minor": 5
}
